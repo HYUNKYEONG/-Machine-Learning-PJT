{
 "cells": [
  {
   "cell_type": "markdown",
   "id": "d00cc9c2",
   "metadata": {},
   "source": [
    "# 1. 연구목적 "
   ]
  },
  {
   "cell_type": "markdown",
   "id": "3f6a9821",
   "metadata": {},
   "source": [
    "### - 어떤 데이터를 target으로 지정했을 때 정확도가 높은가?\n",
    "\n",
    "==> 타겟 지정을 달리했을때의 훈련 점수와, 테스트 점수를 비교하여 \n",
    "\n",
    "정확도가 높은 모델을 선택한다. \n",
    "\n",
    "=> 상관관계에 따라 보스턴시 주택 데이터에 어떤 영향을 미치는지 탐색한다.\n"
   ]
  },
  {
   "cell_type": "markdown",
   "id": "90bb3a90",
   "metadata": {},
   "source": [
    "# 2. 연구 데이터"
   ]
  },
  {
   "cell_type": "markdown",
   "id": "24258c8b",
   "metadata": {},
   "source": [
    "### 보스턴 시의 주택 가격 데이터\n",
    "\n",
    "0 CRIM     town별 1인당 범죄율 \n",
    "\n",
    "1 ZN       25,000평방피트를 초과하는 거주지역의 비율\n",
    "\n",
    "2 INDUS    비소매상업지역이 점유하고 있는 토지의 비율\n",
    "\n",
    "3 CHAS     찰스강에 대한 더미변수(강의 경계에 위치한 경우는 1, 아니면 0)\n",
    "\n",
    "4 NOX      10ppm당 농축 일산화질소\n",
    "\n",
    "5 RM       주택 1가구당 평균 방의 개수\n",
    "\n",
    "6 AGE      1940년 이전에 건축된 소유주택의 비율\n",
    "\n",
    "7 DIS      5개의 보스턴 직업센터까지의 접근성 지수\n",
    "\n",
    "8 RAD      방사형 도로까지의 접근성 지수\n",
    "\n",
    "9 TAX      10,000달러 당 재산세율\n",
    "\n",
    "10 PTRATIO  town별 학생/교사 비율\n",
    "\n",
    "11 B        town별 흑인 비율\n",
    "\n",
    "12 LSTAT    모집단의 하위계층의 비율(%)\n",
    "\n",
    "13 MEDV     본인 소유의 주택 가격(중앙값, 단위:$1,000)\n"
   ]
  },
  {
   "cell_type": "markdown",
   "id": "06f9d223",
   "metadata": {},
   "source": [
    "## 3. 분석 내용 "
   ]
  },
  {
   "cell_type": "markdown",
   "id": "2bda15f7",
   "metadata": {},
   "source": [
    "## 1) 데이터 탐색 "
   ]
  },
  {
   "cell_type": "code",
   "execution_count": 1,
   "id": "bb04ccea",
   "metadata": {},
   "outputs": [],
   "source": [
    "import numpy as np\n",
    "import pandas as pd\n",
    "from sklearn.model_selection import train_test_split"
   ]
  },
  {
   "cell_type": "code",
   "execution_count": 94,
   "id": "16dc8c47",
   "metadata": {},
   "outputs": [
    {
     "data": {
      "text/html": [
       "<div>\n",
       "<style scoped>\n",
       "    .dataframe tbody tr th:only-of-type {\n",
       "        vertical-align: middle;\n",
       "    }\n",
       "\n",
       "    .dataframe tbody tr th {\n",
       "        vertical-align: top;\n",
       "    }\n",
       "\n",
       "    .dataframe thead th {\n",
       "        text-align: right;\n",
       "    }\n",
       "</style>\n",
       "<table border=\"1\" class=\"dataframe\">\n",
       "  <thead>\n",
       "    <tr style=\"text-align: right;\">\n",
       "      <th></th>\n",
       "      <th>0</th>\n",
       "      <th>1</th>\n",
       "      <th>2</th>\n",
       "      <th>3</th>\n",
       "      <th>4</th>\n",
       "      <th>5</th>\n",
       "      <th>6</th>\n",
       "      <th>7</th>\n",
       "      <th>8</th>\n",
       "      <th>9</th>\n",
       "      <th>10</th>\n",
       "      <th>11</th>\n",
       "      <th>12</th>\n",
       "      <th>13</th>\n",
       "    </tr>\n",
       "  </thead>\n",
       "  <tbody>\n",
       "    <tr>\n",
       "      <th>0</th>\n",
       "      <td>0.00632</td>\n",
       "      <td>18.0</td>\n",
       "      <td>2.31</td>\n",
       "      <td>0</td>\n",
       "      <td>0.538</td>\n",
       "      <td>6.575</td>\n",
       "      <td>65.2</td>\n",
       "      <td>4.0900</td>\n",
       "      <td>1</td>\n",
       "      <td>296.0</td>\n",
       "      <td>15.3</td>\n",
       "      <td>396.90</td>\n",
       "      <td>4.98</td>\n",
       "      <td>24.0</td>\n",
       "    </tr>\n",
       "    <tr>\n",
       "      <th>1</th>\n",
       "      <td>0.02731</td>\n",
       "      <td>0.0</td>\n",
       "      <td>7.07</td>\n",
       "      <td>0</td>\n",
       "      <td>0.469</td>\n",
       "      <td>6.421</td>\n",
       "      <td>78.9</td>\n",
       "      <td>4.9671</td>\n",
       "      <td>2</td>\n",
       "      <td>242.0</td>\n",
       "      <td>17.8</td>\n",
       "      <td>396.90</td>\n",
       "      <td>9.14</td>\n",
       "      <td>21.6</td>\n",
       "    </tr>\n",
       "    <tr>\n",
       "      <th>2</th>\n",
       "      <td>0.02729</td>\n",
       "      <td>0.0</td>\n",
       "      <td>7.07</td>\n",
       "      <td>0</td>\n",
       "      <td>0.469</td>\n",
       "      <td>7.185</td>\n",
       "      <td>61.1</td>\n",
       "      <td>4.9671</td>\n",
       "      <td>2</td>\n",
       "      <td>242.0</td>\n",
       "      <td>17.8</td>\n",
       "      <td>392.83</td>\n",
       "      <td>4.03</td>\n",
       "      <td>34.7</td>\n",
       "    </tr>\n",
       "    <tr>\n",
       "      <th>3</th>\n",
       "      <td>0.03237</td>\n",
       "      <td>0.0</td>\n",
       "      <td>2.18</td>\n",
       "      <td>0</td>\n",
       "      <td>0.458</td>\n",
       "      <td>6.998</td>\n",
       "      <td>45.8</td>\n",
       "      <td>6.0622</td>\n",
       "      <td>3</td>\n",
       "      <td>222.0</td>\n",
       "      <td>18.7</td>\n",
       "      <td>394.63</td>\n",
       "      <td>2.94</td>\n",
       "      <td>33.4</td>\n",
       "    </tr>\n",
       "    <tr>\n",
       "      <th>4</th>\n",
       "      <td>0.06905</td>\n",
       "      <td>0.0</td>\n",
       "      <td>2.18</td>\n",
       "      <td>0</td>\n",
       "      <td>0.458</td>\n",
       "      <td>7.147</td>\n",
       "      <td>54.2</td>\n",
       "      <td>6.0622</td>\n",
       "      <td>3</td>\n",
       "      <td>222.0</td>\n",
       "      <td>18.7</td>\n",
       "      <td>396.90</td>\n",
       "      <td>5.33</td>\n",
       "      <td>36.2</td>\n",
       "    </tr>\n",
       "    <tr>\n",
       "      <th>...</th>\n",
       "      <td>...</td>\n",
       "      <td>...</td>\n",
       "      <td>...</td>\n",
       "      <td>...</td>\n",
       "      <td>...</td>\n",
       "      <td>...</td>\n",
       "      <td>...</td>\n",
       "      <td>...</td>\n",
       "      <td>...</td>\n",
       "      <td>...</td>\n",
       "      <td>...</td>\n",
       "      <td>...</td>\n",
       "      <td>...</td>\n",
       "      <td>...</td>\n",
       "    </tr>\n",
       "    <tr>\n",
       "      <th>501</th>\n",
       "      <td>0.06263</td>\n",
       "      <td>0.0</td>\n",
       "      <td>11.93</td>\n",
       "      <td>0</td>\n",
       "      <td>0.573</td>\n",
       "      <td>6.593</td>\n",
       "      <td>69.1</td>\n",
       "      <td>2.4786</td>\n",
       "      <td>1</td>\n",
       "      <td>273.0</td>\n",
       "      <td>21.0</td>\n",
       "      <td>391.99</td>\n",
       "      <td>9.67</td>\n",
       "      <td>22.4</td>\n",
       "    </tr>\n",
       "    <tr>\n",
       "      <th>502</th>\n",
       "      <td>0.04527</td>\n",
       "      <td>0.0</td>\n",
       "      <td>11.93</td>\n",
       "      <td>0</td>\n",
       "      <td>0.573</td>\n",
       "      <td>6.120</td>\n",
       "      <td>76.7</td>\n",
       "      <td>2.2875</td>\n",
       "      <td>1</td>\n",
       "      <td>273.0</td>\n",
       "      <td>21.0</td>\n",
       "      <td>396.90</td>\n",
       "      <td>9.08</td>\n",
       "      <td>20.6</td>\n",
       "    </tr>\n",
       "    <tr>\n",
       "      <th>503</th>\n",
       "      <td>0.06076</td>\n",
       "      <td>0.0</td>\n",
       "      <td>11.93</td>\n",
       "      <td>0</td>\n",
       "      <td>0.573</td>\n",
       "      <td>6.976</td>\n",
       "      <td>91.0</td>\n",
       "      <td>2.1675</td>\n",
       "      <td>1</td>\n",
       "      <td>273.0</td>\n",
       "      <td>21.0</td>\n",
       "      <td>396.90</td>\n",
       "      <td>5.64</td>\n",
       "      <td>23.9</td>\n",
       "    </tr>\n",
       "    <tr>\n",
       "      <th>504</th>\n",
       "      <td>0.10959</td>\n",
       "      <td>0.0</td>\n",
       "      <td>11.93</td>\n",
       "      <td>0</td>\n",
       "      <td>0.573</td>\n",
       "      <td>6.794</td>\n",
       "      <td>89.3</td>\n",
       "      <td>2.3889</td>\n",
       "      <td>1</td>\n",
       "      <td>273.0</td>\n",
       "      <td>21.0</td>\n",
       "      <td>393.45</td>\n",
       "      <td>6.48</td>\n",
       "      <td>22.0</td>\n",
       "    </tr>\n",
       "    <tr>\n",
       "      <th>505</th>\n",
       "      <td>0.04741</td>\n",
       "      <td>0.0</td>\n",
       "      <td>11.93</td>\n",
       "      <td>0</td>\n",
       "      <td>0.573</td>\n",
       "      <td>6.030</td>\n",
       "      <td>80.8</td>\n",
       "      <td>2.5050</td>\n",
       "      <td>1</td>\n",
       "      <td>273.0</td>\n",
       "      <td>21.0</td>\n",
       "      <td>396.90</td>\n",
       "      <td>7.88</td>\n",
       "      <td>11.9</td>\n",
       "    </tr>\n",
       "  </tbody>\n",
       "</table>\n",
       "<p>506 rows × 14 columns</p>\n",
       "</div>"
      ],
      "text/plain": [
       "          0     1      2   3      4      5     6       7   8      9     10  \\\n",
       "0    0.00632  18.0   2.31   0  0.538  6.575  65.2  4.0900   1  296.0  15.3   \n",
       "1    0.02731   0.0   7.07   0  0.469  6.421  78.9  4.9671   2  242.0  17.8   \n",
       "2    0.02729   0.0   7.07   0  0.469  7.185  61.1  4.9671   2  242.0  17.8   \n",
       "3    0.03237   0.0   2.18   0  0.458  6.998  45.8  6.0622   3  222.0  18.7   \n",
       "4    0.06905   0.0   2.18   0  0.458  7.147  54.2  6.0622   3  222.0  18.7   \n",
       "..       ...   ...    ...  ..    ...    ...   ...     ...  ..    ...   ...   \n",
       "501  0.06263   0.0  11.93   0  0.573  6.593  69.1  2.4786   1  273.0  21.0   \n",
       "502  0.04527   0.0  11.93   0  0.573  6.120  76.7  2.2875   1  273.0  21.0   \n",
       "503  0.06076   0.0  11.93   0  0.573  6.976  91.0  2.1675   1  273.0  21.0   \n",
       "504  0.10959   0.0  11.93   0  0.573  6.794  89.3  2.3889   1  273.0  21.0   \n",
       "505  0.04741   0.0  11.93   0  0.573  6.030  80.8  2.5050   1  273.0  21.0   \n",
       "\n",
       "         11    12    13  \n",
       "0    396.90  4.98  24.0  \n",
       "1    396.90  9.14  21.6  \n",
       "2    392.83  4.03  34.7  \n",
       "3    394.63  2.94  33.4  \n",
       "4    396.90  5.33  36.2  \n",
       "..      ...   ...   ...  \n",
       "501  391.99  9.67  22.4  \n",
       "502  396.90  9.08  20.6  \n",
       "503  396.90  5.64  23.9  \n",
       "504  393.45  6.48  22.0  \n",
       "505  396.90  7.88  11.9  \n",
       "\n",
       "[506 rows x 14 columns]"
      ]
     },
     "execution_count": 94,
     "metadata": {},
     "output_type": "execute_result"
    }
   ],
   "source": [
    "df=pd.read_csv(\"./dataset/housing.csv\", delim_whitespace=True, header=None)\n",
    "df"
   ]
  },
  {
   "cell_type": "code",
   "execution_count": 95,
   "id": "7af9bca4",
   "metadata": {},
   "outputs": [
    {
     "name": "stdout",
     "output_type": "stream",
     "text": [
      "<class 'pandas.core.frame.DataFrame'>\n",
      "RangeIndex: 506 entries, 0 to 505\n",
      "Data columns (total 14 columns):\n",
      " #   Column  Non-Null Count  Dtype  \n",
      "---  ------  --------------  -----  \n",
      " 0   0       506 non-null    float64\n",
      " 1   1       506 non-null    float64\n",
      " 2   2       506 non-null    float64\n",
      " 3   3       506 non-null    int64  \n",
      " 4   4       506 non-null    float64\n",
      " 5   5       506 non-null    float64\n",
      " 6   6       506 non-null    float64\n",
      " 7   7       506 non-null    float64\n",
      " 8   8       506 non-null    int64  \n",
      " 9   9       506 non-null    float64\n",
      " 10  10      506 non-null    float64\n",
      " 11  11      506 non-null    float64\n",
      " 12  12      506 non-null    float64\n",
      " 13  13      506 non-null    float64\n",
      "dtypes: float64(12), int64(2)\n",
      "memory usage: 55.5 KB\n"
     ]
    }
   ],
   "source": [
    "df.info()"
   ]
  },
  {
   "cell_type": "code",
   "execution_count": 97,
   "id": "f6b48b14",
   "metadata": {},
   "outputs": [
    {
     "data": {
      "image/png": "[encoded data removed]",
      "text/plain": [
       "<Figure size 864x864 with 2 Axes>"
      ]
     },
     "metadata": {
      "needs_background": "light"
     },
     "output_type": "display_data"
    }
   ],
   "source": [
    "import matplotlib.pyplot as plt\n",
    "import seaborn as sns\n",
    "\n",
    "colormap=plt.cm.gist_heat\n",
    "plt.figure(figsize=(12,12))\n",
    "sns.heatmap(df.corr(),linewidths=0.1,vmax=0.5,cmap=colormap,linecolor='white',annot=True)\n",
    "plt.show()"
   ]
  },
  {
   "cell_type": "code",
   "execution_count": 98,
   "id": "e12be892",
   "metadata": {},
   "outputs": [
    {
     "data": {
      "image/png": "[encoded data removed]",
      "text/plain": [
       "<Figure size 864x864 with 2 Axes>"
      ]
     },
     "metadata": {
      "needs_background": "light"
     },
     "output_type": "display_data"
    }
   ],
   "source": [
    "colormap=plt.cm.gist_heat\n",
    "plt.figure(figsize=(12,12))\n",
    "d=df.corr()\n",
    "d[d<0.7]=0\n",
    "sns.heatmap(d,linewidths=0.1,cmap=colormap,linecolor='white',annot=True)\n",
    "plt.show()\n",
    "\n",
    "#10,000달러당 재산세율(9)과 상관관계가 높은 것: 방사형 도로까지의 접근성 지수(8, 0.91), 비소매상업지역이 점유하고 있는 토지의 비율(2, 0.72), 10ppm당 농축 일산화질소(4, 0.67) "
   ]
  },
  {
   "cell_type": "markdown",
   "id": "b10257c1",
   "metadata": {},
   "source": [
    "### 1. 상관관계가 높은 09(만달러당 재산세율)을 target으로 둔 경우"
   ]
  },
  {
   "cell_type": "code",
   "execution_count": 99,
   "id": "e41393fd",
   "metadata": {},
   "outputs": [],
   "source": [
    "dataset=df.values\n",
    "\n",
    "X=dataset[:,[0,1,2,3,4,5,6,7,8,10,11,12,13]]\n",
    "Y=dataset[:,9]\n",
    "\n",
    "train_input, test_input, train_target, test_target=train_test_split(X,Y, test_size=0.2, random_state=42)"
   ]
  },
  {
   "cell_type": "code",
   "execution_count": 100,
   "id": "ad978310",
   "metadata": {},
   "outputs": [],
   "source": [
    "from sklearn.preprocessing import StandardScaler\n",
    "ss=StandardScaler()\n",
    "ss.fit(train_input)\n",
    "train_scaled=ss.transform(train_input)\n",
    "test_scaled=ss.transform(test_input)"
   ]
  },
  {
   "cell_type": "code",
   "execution_count": 101,
   "id": "727a4b31",
   "metadata": {},
   "outputs": [
    {
     "name": "stdout",
     "output_type": "stream",
     "text": [
      "0.8714183507360396\n",
      "0.857275340407696\n"
     ]
    }
   ],
   "source": [
    "# KNR \n",
    "from sklearn.neighbors import KNeighborsRegressor\n",
    "knr=KNeighborsRegressor(n_neighbors=20)\n",
    "knr.fit(train_scaled, train_target)\n",
    "print(knr.score(train_scaled, train_target))\n",
    "print(knr.score(test_scaled, test_target))"
   ]
  },
  {
   "cell_type": "code",
   "execution_count": 102,
   "id": "92ea4aff",
   "metadata": {},
   "outputs": [
    {
     "name": "stdout",
     "output_type": "stream",
     "text": [
      "0.8899596728304764\n",
      "0.8875804174371742\n"
     ]
    }
   ],
   "source": [
    "# 선형회귀 (GOOD!!)\n",
    "from sklearn.linear_model import LinearRegression\n",
    "\n",
    "lr=LinearRegression()\n",
    "lr.fit(train_scaled, train_target)\n",
    "print(lr.score(train_scaled, train_target))\n",
    "print(lr.score(test_scaled, test_target))"
   ]
  },
  {
   "cell_type": "markdown",
   "id": "0fb69af9",
   "metadata": {},
   "source": [
    " - 훈련 score 테스트 score 차이가 크지 않다."
   ]
  },
  {
   "cell_type": "code",
   "execution_count": 103,
   "id": "f10bca71",
   "metadata": {},
   "outputs": [
    {
     "name": "stdout",
     "output_type": "stream",
     "text": [
      "[ -2.21972888  25.06703242  42.513667    -4.88511153   8.32533391\n",
      "  -1.56783496  -0.65372006  -9.40561025 123.0860905    2.86942958\n",
      "  -0.55029102  -7.84165588 -13.89859882] 404.03217821782164\n"
     ]
    }
   ],
   "source": [
    "print(lr.coef_, lr.intercept_)"
   ]
  },
  {
   "cell_type": "code",
   "execution_count": 104,
   "id": "d8b95997",
   "metadata": {},
   "outputs": [
    {
     "name": "stdout",
     "output_type": "stream",
     "text": [
      "0.8972527373179969\n",
      "0.9008326759620569\n"
     ]
    }
   ],
   "source": [
    "#다항회귀\n",
    "train_poly=np.column_stack((train_input**3, train_input))\n",
    "test_poly=np.column_stack((test_input**3, test_input))\n",
    "lr=LinearRegression()\n",
    "lr.fit(train_poly, train_target)\n",
    "print(lr.score(train_poly, train_target))\n",
    "print(lr.score(test_poly, test_target))\n",
    "# 정확도가 높아짐"
   ]
  },
  {
   "cell_type": "markdown",
   "id": "5016bc2e",
   "metadata": {},
   "source": [
    "- 3차 다항회귀를 통해 훈련 점수와 테스트 점수가 상승되었다."
   ]
  },
  {
   "cell_type": "code",
   "execution_count": 105,
   "id": "306f49a1",
   "metadata": {},
   "outputs": [],
   "source": [
    "# 다중회귀\n",
    "from sklearn.preprocessing import PolynomialFeatures\n",
    "poly=PolynomialFeatures(degree=2, include_bias=False)\n",
    "poly.fit(train_scaled)\n",
    "train_poly=poly.transform(train_scaled)\n",
    "test_poly=poly.transform(test_scaled)"
   ]
  },
  {
   "cell_type": "code",
   "execution_count": 106,
   "id": "ed5ad622",
   "metadata": {},
   "outputs": [
    {
     "name": "stdout",
     "output_type": "stream",
     "text": [
      "0.9623208876613644\n",
      "0.941845239708462\n"
     ]
    }
   ],
   "source": [
    "from sklearn.linear_model import LinearRegression\n",
    "\n",
    "lr=LinearRegression()\n",
    "lr.fit(train_poly, train_target)\n",
    "print(lr.score(train_poly, train_target))\n",
    "print(lr.score(test_poly, test_target))"
   ]
  },
  {
   "cell_type": "markdown",
   "id": "1395d368",
   "metadata": {},
   "source": [
    "- 특성이 늘어나면서 선형회귀의 학습 능력 UP"
   ]
  },
  {
   "cell_type": "code",
   "execution_count": 107,
   "id": "e163fdf1",
   "metadata": {},
   "outputs": [
    {
     "name": "stdout",
     "output_type": "stream",
     "text": [
      "0.8891275028083886\n",
      "0.8878771574426152\n"
     ]
    }
   ],
   "source": [
    "# 릿지 \n",
    "from sklearn.linear_model import Ridge\n",
    "ridge=Ridge(alpha=10)\n",
    "ridge.fit(train_scaled, train_target)\n",
    "print(ridge.score(train_scaled, train_target))\n",
    "print(ridge.score(test_scaled, test_target))\n",
    "# 오차가 거의 없음"
   ]
  },
  {
   "cell_type": "code",
   "execution_count": 108,
   "id": "a22427ab",
   "metadata": {},
   "outputs": [
    {
     "data": {
      "image/png": "[encoded data removed]",
      "text/plain": [
       "<Figure size 432x288 with 1 Axes>"
      ]
     },
     "metadata": {
      "needs_background": "light"
     },
     "output_type": "display_data"
    }
   ],
   "source": [
    "train_score = []\n",
    "test_score = []\n",
    "\n",
    "alpha_list = [0.001, 0.01, 0.1, 1, 10, 100] # 0.001에서 100까지 10배씩 모델 훈련 \n",
    "for alpha in alpha_list:\n",
    "    ridge = Ridge(alpha=alpha) # 릿지 모델 생성 \n",
    "    ridge.fit(train_scaled, train_target) # 훈련 \n",
    "    train_score.append(ridge.score(train_scaled, train_target))# 점수 저장\n",
    "    test_score.append(ridge.score(test_scaled, test_target))\n",
    "    \n",
    "plt.plot(np.log10(alpha_list), train_score)\n",
    "plt.plot(np.log10(alpha_list), test_score)\n",
    "plt.xlabel(\"alpha\")\n",
    "plt.ylabel(\"R^2\")\n",
    "plt.show()"
   ]
  },
  {
   "cell_type": "markdown",
   "id": "dc548b6a",
   "metadata": {},
   "source": [
    "- 과적합이 아니기 때문에 오차가 거의 없다/  좁혀지는 지점 = 과소적합 \n",
    "- alpha의 최적값은 10 "
   ]
  },
  {
   "cell_type": "code",
   "execution_count": 109,
   "id": "a66fe866",
   "metadata": {},
   "outputs": [
    {
     "name": "stdout",
     "output_type": "stream",
     "text": [
      "0.8899596715319477\n",
      "0.8875845716433675\n"
     ]
    }
   ],
   "source": [
    "# 라쏘\n",
    "from sklearn.linear_model import Lasso\n",
    "lasso=Lasso(alpha=0.001)\n",
    "lasso.fit(train_scaled, train_target)\n",
    "print(lasso.score(train_scaled, train_target))\n",
    "print(lasso.score(test_scaled, test_target))"
   ]
  },
  {
   "cell_type": "code",
   "execution_count": 110,
   "id": "9dc5363c",
   "metadata": {
    "scrolled": true
   },
   "outputs": [
    {
     "data": {
      "image/png": "[encoded data removed]",
      "text/plain": [
       "<Figure size 432x288 with 1 Axes>"
      ]
     },
     "metadata": {
      "needs_background": "light"
     },
     "output_type": "display_data"
    }
   ],
   "source": [
    "train_score = []\n",
    "test_score = []\n",
    "\n",
    "alpha_list = [0.001, 0.01, 0.1, 1, 10, 100]\n",
    "for alpha in alpha_list:\n",
    "    lasso = Lasso(alpha=alpha, max_iter=10000)\n",
    "    lasso.fit(train_scaled, train_target)\n",
    "    train_score.append(lasso.score(train_scaled, train_target))\n",
    "    test_score.append(lasso.score(test_scaled, test_target))\n",
    "\n",
    "plt.plot(np.log10(alpha_list), train_score)\n",
    "plt.plot(np.log10(alpha_list), test_score)\n",
    "plt.xlabel(\"alpha\")\n",
    "plt.ylabel(\"R^2\")\n",
    "plt.show()"
   ]
  },
  {
   "cell_type": "markdown",
   "id": "99496a4a",
   "metadata": {},
   "source": [
    "- alpha의 최적값은 0.001 or 0.1 or 1\n",
    "- 위의 score가 과적합이 아니기 때문에 차이가 별로 없다. "
   ]
  },
  {
   "cell_type": "code",
   "execution_count": 111,
   "id": "4e4e3f22",
   "metadata": {},
   "outputs": [
    {
     "name": "stdout",
     "output_type": "stream",
     "text": [
      "0.7698019801980198\n",
      "0.5588235294117647\n"
     ]
    }
   ],
   "source": [
    "# SGDClassifier (손실함수)\n",
    "from sklearn.linear_model import SGDClassifier\n",
    "\n",
    "sc2= SGDClassifier(loss='log',max_iter=100,random_state=42)\n",
    "sc2.fit(train_scaled,train_target)\n",
    "print(sc2.score(train_scaled, train_target))\n",
    "print(sc2.score(test_scaled, test_target))\n",
    "\n",
    "# 훈련세트와 테스트 세트의 정확도가 낮다 100번으로 부족 \n",
    "\n",
    "# 변화무쌍하다, 돌릴때마다, 에러가났다, 레포트거리!! 이유 \n",
    "# 경향을 띄기 때문에  50점에서 iter=80일때와 90일때 점수가 크게 차이가 나지 않는 이유는 지그재그로 변화무쌍하기 떄문에 큰 차이가 나지 않았다.\n",
    "# 그래서 에포크 50회가 가장 적당한 훈련수 임은 알수 있다. "
   ]
  },
  {
   "cell_type": "code",
   "execution_count": 112,
   "id": "4f30638d",
   "metadata": {},
   "outputs": [
    {
     "name": "stdout",
     "output_type": "stream",
     "text": [
      "0.8366336633663366\n",
      "0.6764705882352942\n"
     ]
    }
   ],
   "source": [
    "sc2.partial_fit(train_scaled,train_target)\n",
    "print(sc2.score(train_scaled,train_target))\n",
    "print(sc2.score(test_scaled,test_target))\n",
    "# 에포크 실행하니 정확도 조금 향상. "
   ]
  },
  {
   "cell_type": "code",
   "execution_count": 113,
   "id": "1d70b9ed",
   "metadata": {},
   "outputs": [],
   "source": [
    "# 에포크와 과대/과소 적합 \n",
    "\n",
    "sc3 = SGDClassifier(loss='log',random_state=42)\n",
    "train_score=[]\n",
    "test_score=[]\n",
    "classes = np.unique(train_target)\n",
    "\n",
    "# 300번 에포크 동안 훈련\n",
    "for _ in range(0,300):\n",
    "    sc3.partial_fit(train_scaled,train_target,classes=classes)\n",
    "    train_score.append(sc3.score(train_scaled,train_target))\n",
    "    test_score.append(sc3.score(test_scaled,test_target))"
   ]
  },
  {
   "cell_type": "code",
   "execution_count": 114,
   "id": "564d37a1",
   "metadata": {},
   "outputs": [
    {
     "data": {
      "image/png": "[encoded data removed]",
      "text/plain": [
       "<Figure size 432x288 with 1 Axes>"
      ]
     },
     "metadata": {
      "needs_background": "light"
     },
     "output_type": "display_data"
    }
   ],
   "source": [
    "plt.plot(train_score)\n",
    "plt.plot(test_score)\n",
    "plt.xlabel('epoch')\n",
    "plt.ylabel('accuracy')\n",
    "plt.show()"
   ]
  },
  {
   "cell_type": "code",
   "execution_count": 115,
   "id": "733704f8",
   "metadata": {},
   "outputs": [
    {
     "name": "stdout",
     "output_type": "stream",
     "text": [
      "0.8910891089108911\n",
      "0.6764705882352942\n"
     ]
    }
   ],
   "source": [
    "sc3 = SGDClassifier(loss='log',max_iter=100,tol=None,random_state=42)\n",
    "sc3.fit(train_scaled,train_target)\n",
    "print(sc3.score(train_scaled,train_target))\n",
    "print(sc3.score(test_scaled,test_target))\n",
    "\n",
    "# 더이상 높아지지 않는 지점이 50회 이상부터는 test가 높아지지 않는다 \n",
    "# 에포크 50회가 가장 적당한 훈련 횟수이다. 최적의 모델=50회 (조기종료)"
   ]
  },
  {
   "cell_type": "code",
   "execution_count": 116,
   "id": "772a2bd7",
   "metadata": {},
   "outputs": [
    {
     "name": "stdout",
     "output_type": "stream",
     "text": [
      "1.0\n",
      "0.9608540130358032\n"
     ]
    }
   ],
   "source": [
    "# 의사결정회귀\n",
    "from sklearn.tree import DecisionTreeRegressor\n",
    "dt=DecisionTreeRegressor(random_state=42)\n",
    "dt.fit(train_scaled, train_target)\n",
    "print(dt.score(train_scaled, train_target))\n",
    "print(dt.score(test_scaled, test_target))\n",
    "#과대적합 (훈련good)"
   ]
  },
  {
   "cell_type": "code",
   "execution_count": 117,
   "id": "a5e3487b",
   "metadata": {},
   "outputs": [
    {
     "name": "stdout",
     "output_type": "stream",
     "text": [
      "1.0\n",
      "0.9608540130358032\n"
     ]
    }
   ],
   "source": [
    "# 그리드서치\n",
    "from sklearn.model_selection import GridSearchCV\n",
    "params={'min_impurity_decrease':[0.0001, 0.0001, 0.0003, 0.0004, 0.0005]}\n",
    "gs=GridSearchCV(DecisionTreeRegressor(random_state=42), params, n_jobs=-1)\n",
    "gs.fit(train_scaled, train_target)\n",
    "dt=gs.best_estimator_\n",
    "print(dt.score(train_scaled, train_target))\n",
    "print(dt.score(test_scaled, test_target))\n",
    "#과대적합"
   ]
  },
  {
   "cell_type": "code",
   "execution_count": 118,
   "id": "8f4046ca",
   "metadata": {},
   "outputs": [
    {
     "name": "stdout",
     "output_type": "stream",
     "text": [
      "DecisionTreeRegressor(min_impurity_decrease=0.0001, random_state=42)\n"
     ]
    }
   ],
   "source": [
    "print(gs.best_estimator_)\n",
    "\n",
    "# 최고의 estimator는 0.0001 일때 이고 랜덤이 42일때이다. "
   ]
  },
  {
   "cell_type": "code",
   "execution_count": 119,
   "id": "5436c36e",
   "metadata": {},
   "outputs": [
    {
     "name": "stdout",
     "output_type": "stream",
     "text": [
      "[0.94316297 0.94316297 0.94316297 0.94316297 0.94316297]\n"
     ]
    }
   ],
   "source": [
    "print(gs.cv_results_['mean_test_score'])\n",
    "\n",
    "# 위를 바탕으로 그 때의 점수의 평균이 이렇게 나왔다. 각각 테스트 스코아의 평균이 이렇게 나왔다. "
   ]
  },
  {
   "cell_type": "code",
   "execution_count": 120,
   "id": "85a5d7d3",
   "metadata": {},
   "outputs": [
    {
     "name": "stdout",
     "output_type": "stream",
     "text": [
      "{'min_impurity_decrease': 0.0001}\n"
     ]
    }
   ],
   "source": [
    "best_index=np.argmax(gs.cv_results_['mean_test_score'])\n",
    "print(gs.cv_results_['params'][best_index])"
   ]
  },
  {
   "cell_type": "code",
   "execution_count": 121,
   "id": "b63d559e",
   "metadata": {},
   "outputs": [],
   "source": [
    "params={'min_impurity_decrease':np.arange(0.0001, 0.001, 0.0001), 'max_depth':range(5,20,1), 'min_samples_split':range(2, 100, 10)}\n",
    "\n",
    "# 이 간격으로 찾았을때의 지점이 / 최적의 파라미터를 찾아서 대입한 것 "
   ]
  },
  {
   "cell_type": "code",
   "execution_count": 122,
   "id": "d67656a7",
   "metadata": {},
   "outputs": [
    {
     "data": {
      "text/plain": [
       "GridSearchCV(estimator=DecisionTreeRegressor(random_state=42), n_jobs=-1,\n",
       "             param_grid={'max_depth': range(5, 20),\n",
       "                         'min_impurity_decrease': array([0.0001, 0.0002, 0.0003, 0.0004, 0.0005, 0.0006, 0.0007, 0.0008,\n",
       "       0.0009]),\n",
       "                         'min_samples_split': range(2, 100, 10)})"
      ]
     },
     "execution_count": 122,
     "metadata": {},
     "output_type": "execute_result"
    }
   ],
   "source": [
    "gs=GridSearchCV(DecisionTreeRegressor(random_state=42), params, n_jobs=-1)\n",
    "gs.fit(train_scaled, train_target)"
   ]
  },
  {
   "cell_type": "code",
   "execution_count": 123,
   "id": "cafbd55d",
   "metadata": {},
   "outputs": [
    {
     "name": "stdout",
     "output_type": "stream",
     "text": [
      "{'max_depth': 7, 'min_impurity_decrease': 0.0001, 'min_samples_split': 12}\n"
     ]
    }
   ],
   "source": [
    "print(gs.best_params_)\n",
    "\n",
    "# 최고의 파라미터는 "
   ]
  },
  {
   "cell_type": "code",
   "execution_count": 124,
   "id": "85d24e8b",
   "metadata": {},
   "outputs": [
    {
     "name": "stdout",
     "output_type": "stream",
     "text": [
      "0.9538819759419443\n"
     ]
    }
   ],
   "source": [
    "print(np.max(gs.cv_results_['mean_test_score']))\n",
    "\n",
    "# 그떄의 점수 => 그래서 이게 그리드 서치에서의 제일 좋은 점수 \n",
    "# 하이퍼파라미터 탐색을 자동화, \n",
    "# 가장 좋은 검증점수 매개변수를 조합해서 최종 모델훈련 \n",
    "# 제일 좋은 매개변수 조합으로 최종 점수! "
   ]
  },
  {
   "cell_type": "code",
   "execution_count": 125,
   "id": "3e604d67",
   "metadata": {},
   "outputs": [
    {
     "name": "stdout",
     "output_type": "stream",
     "text": [
      "0.9948273254398832 0.9654717156268917\n"
     ]
    }
   ],
   "source": [
    "# 랜덤 포레스트\n",
    "from sklearn.model_selection import cross_validate\n",
    "from sklearn.ensemble import RandomForestRegressor\n",
    "\n",
    "rf=RandomForestRegressor(n_jobs=-1, random_state=42)\n",
    "scores=cross_validate(rf, train_input, train_target, return_train_score=True, n_jobs=-1)\n",
    "print(np.mean(scores['train_score']), np.mean(scores['test_score']))\n",
    "\n",
    "# 과대적합 막아줌 성능 향상. "
   ]
  },
  {
   "cell_type": "markdown",
   "id": "2f599de0",
   "metadata": {},
   "source": [
    "=> 5개의 확률을 구하고, 경우마다 조금씩 다를 수 있으니, 5개의 평균값을 기대치로 본다. \n",
    "=> (테스트 만으로는 잘 작동하는지 확신이 어려우므로)"
   ]
  },
  {
   "cell_type": "code",
   "execution_count": 126,
   "id": "bc9efe0d",
   "metadata": {},
   "outputs": [
    {
     "name": "stdout",
     "output_type": "stream",
     "text": [
      "[3.27547890e-02 7.15649925e-03 6.79428868e-02 7.53147165e-05\n",
      " 3.31156114e-02 9.52943395e-04 3.40695399e-03 2.11183926e-02\n",
      " 8.18790386e-01 7.84506256e-03 1.67530705e-03 2.44313384e-03\n",
      " 2.72271953e-03]\n"
     ]
    }
   ],
   "source": [
    "rf.fit(train_input, train_target)\n",
    "print(rf.feature_importances_)\n",
    "#중요도는 8번(도로까지 접근성 지수)>2번(비소매상업지역 토지)>0,4번(범죄율, 일산화질소)"
   ]
  },
  {
   "cell_type": "code",
   "execution_count": 127,
   "id": "04f2e69f",
   "metadata": {},
   "outputs": [
    {
     "name": "stdout",
     "output_type": "stream",
     "text": [
      "0.9728049579109765\n"
     ]
    }
   ],
   "source": [
    "rf=RandomForestRegressor(oob_score=True, n_jobs=-1, random_state=42)\n",
    "rf.fit(train_input, train_target)\n",
    "print(rf.oob_score_)  # 누락 데이터 랜덤포레스트 0.97"
   ]
  },
  {
   "cell_type": "code",
   "execution_count": 128,
   "id": "0c65ddc0",
   "metadata": {},
   "outputs": [
    {
     "name": "stdout",
     "output_type": "stream",
     "text": [
      "1.0 0.9754840574538081\n"
     ]
    }
   ],
   "source": [
    "# 엑스트라 트리\n",
    "from sklearn.ensemble import ExtraTreesRegressor\n",
    "\n",
    "et=ExtraTreesRegressor(n_jobs=-1, random_state=42)\n",
    "scores=cross_validate(et, train_input, train_target, return_train_score=True, n_jobs=-1)\n",
    "\n",
    "print(np.mean(scores['train_score']), np.mean(scores['test_score']))"
   ]
  },
  {
   "cell_type": "code",
   "execution_count": 129,
   "id": "02f925ad",
   "metadata": {},
   "outputs": [
    {
     "name": "stderr",
     "output_type": "stream",
     "text": [
      "C:\\Users\\hk428\\anaconda3\\envs\\tf24\\lib\\site-packages\\sklearn\\model_selection\\_split.py:666: UserWarning: The least populated class in y has only 1 members, which is less than n_splits=5.\n",
      "  warnings.warn((\"The least populated class in y has only %d\"\n"
     ]
    },
    {
     "name": "stdout",
     "output_type": "stream",
     "text": [
      "1.0 0.9790111250688168\n"
     ]
    }
   ],
   "source": [
    "from sklearn.model_selection import StratifiedKFold\n",
    "\n",
    "splitter=StratifiedKFold(n_splits=10, shuffle=True, random_state=42)\n",
    "et=ExtraTreesRegressor(n_jobs=-1, random_state=42)\n",
    "scores=cross_validate(et, train_input, train_target, return_train_score=True, n_jobs=-1, cv=StratifiedKFold())\n",
    "\n",
    "print(np.mean(scores['train_score']), np.mean(scores['test_score']))\n",
    "\n",
    "# 디폴트 값은 5개, 교차검증 k-fold의 수를 늘려보았을때 점수가 더 높게나왔다.  0.9790111250688168 "
   ]
  },
  {
   "cell_type": "code",
   "execution_count": 130,
   "id": "24c67367",
   "metadata": {},
   "outputs": [
    {
     "name": "stdout",
     "output_type": "stream",
     "text": [
      "[0.02046418 0.0091414  0.11688539 0.00109989 0.03187281 0.00147064\n",
      " 0.00825286 0.01161312 0.7475232  0.03698817 0.00243068 0.00469866\n",
      " 0.00755899]\n"
     ]
    }
   ],
   "source": [
    "et.fit(train_input, train_target)\n",
    "print(et.feature_importances_)\n",
    "# 중요도: 8번(방사도로수)> 2번(비소매상업지역 토지) -> 재산세율에는 도로 수와 비소매상업지역 토지가 미치는 영향이 큼\n",
    "# 엑스트라 트리에서 본 중요도가 차이를 한 눈에 볼 수 있게끔 해줌"
   ]
  },
  {
   "cell_type": "markdown",
   "id": "96911b25",
   "metadata": {},
   "source": [
    "## 그레이디언트 부스팅 => 손실 함수를 최소화"
   ]
  },
  {
   "cell_type": "code",
   "execution_count": 131,
   "id": "aba8af0c",
   "metadata": {},
   "outputs": [
    {
     "name": "stdout",
     "output_type": "stream",
     "text": [
      "0.9961570363254559 0.9619739071030855\n"
     ]
    }
   ],
   "source": [
    "from sklearn.ensemble import GradientBoostingRegressor\n",
    "\n",
    "gb=GradientBoostingRegressor(random_state=42)\n",
    "scores=cross_validate(gb, train_input, train_target, return_train_score=True, n_jobs=-1)\n",
    "print(np.mean(scores['train_score']), np.mean(scores['test_score']))\n",
    "# 비교적 높은 점수로 좋은 성능 발휘 "
   ]
  },
  {
   "cell_type": "code",
   "execution_count": 132,
   "id": "5a4b6a20",
   "metadata": {},
   "outputs": [
    {
     "name": "stdout",
     "output_type": "stream",
     "text": [
      "[4.81702539e-03 1.21110740e-02 7.12299026e-02 8.46651022e-06\n",
      " 4.07323549e-02 4.02089458e-04 6.46106822e-04 1.08051818e-02\n",
      " 8.44273063e-01 4.83180676e-03 1.67250554e-03 9.68889968e-04\n",
      " 7.50153372e-03]\n"
     ]
    }
   ],
   "source": [
    "gb.fit(train_input, train_target)\n",
    "print(gb.feature_importances_)\n",
    "#그레이디언트 부스트의 중요도: 8번>2번"
   ]
  },
  {
   "cell_type": "code",
   "execution_count": 133,
   "id": "a9b2b390",
   "metadata": {},
   "outputs": [
    {
     "name": "stdout",
     "output_type": "stream",
     "text": [
      "0.9896025133269275 0.9465373264152269\n"
     ]
    }
   ],
   "source": [
    "# 히스토그램 기반 그레이디언트 부스팅\n",
    "from sklearn.experimental import enable_hist_gradient_boosting\n",
    "from sklearn.ensemble import HistGradientBoostingRegressor\n",
    "\n",
    "hgb=HistGradientBoostingRegressor(random_state=42)\n",
    "scores=cross_validate(hgb, train_input, train_target, return_train_score=True)\n",
    "\n",
    "hgb.fit(train_input, train_target)\n",
    "print(np.mean(scores['train_score']), np.mean(scores['test_score']))\n",
    "#과대적합/ 테스트 스코어가 낮아짐"
   ]
  },
  {
   "cell_type": "code",
   "execution_count": 134,
   "id": "fe37aa84",
   "metadata": {},
   "outputs": [
    {
     "name": "stdout",
     "output_type": "stream",
     "text": [
      "[0.00959481 0.00419396 0.04416902 0.         0.06402234 0.00337159\n",
      " 0.00490221 0.03088765 1.30016989 0.0090849  0.00306419 0.00262478\n",
      " 0.01757062]\n"
     ]
    }
   ],
   "source": [
    "# 특성중요도\n",
    "from sklearn.inspection import permutation_importance\n",
    "\n",
    "hgb.fit(train_input, train_target)\n",
    "result=permutation_importance(hgb, train_input, train_target, n_repeats=10, random_state=42, n_jobs=-1)\n",
    "print(result.importances_mean)\n",
    "# 특성중요도가 아주 잘 드러남(8번 특성이 가장 중요함.)\n",
    "# 또 높게나왔네 "
   ]
  },
  {
   "cell_type": "code",
   "execution_count": 135,
   "id": "fb2cd80a",
   "metadata": {},
   "outputs": [
    {
     "name": "stdout",
     "output_type": "stream",
     "text": [
      "[ 1.67119768e-02  5.70755705e-04  3.79820086e-02  0.00000000e+00\n",
      "  7.18010167e-02  3.76218058e-03 -8.44407750e-04  1.29011665e-02\n",
      "  1.31423780e+00  1.27865469e-02  3.88715787e-04  1.68187573e-03\n",
      "  1.69072181e-02]\n"
     ]
    }
   ],
   "source": [
    "result=permutation_importance(hgb, test_input, test_target, n_repeats=10, random_state=42, n_jobs=-1)\n",
    "print(result.importances_mean)"
   ]
  },
  {
   "cell_type": "markdown",
   "id": "7ad40cc8",
   "metadata": {},
   "source": [
    "### 2. 상관관계가 중등도인 13(본인 소유의 주택 가격)을  target으로 둔 경우"
   ]
  },
  {
   "cell_type": "code",
   "execution_count": 136,
   "id": "2aa2029a",
   "metadata": {},
   "outputs": [],
   "source": [
    "X=dataset[:,:13]\n",
    "Y=dataset[:,13]"
   ]
  },
  {
   "cell_type": "code",
   "execution_count": 137,
   "id": "e16148e7",
   "metadata": {},
   "outputs": [],
   "source": [
    "train_input, test_input, train_target, test_target=train_test_split(X,Y, test_size=0.2, random_state=42)"
   ]
  },
  {
   "cell_type": "code",
   "execution_count": 138,
   "id": "dff976b7",
   "metadata": {},
   "outputs": [],
   "source": [
    "from sklearn.preprocessing import StandardScaler\n",
    "ss=StandardScaler()\n",
    "ss.fit(train_input)\n",
    "train_scaled=ss.transform(train_input)\n",
    "test_scaled=ss.transform(test_input)"
   ]
  },
  {
   "cell_type": "code",
   "execution_count": 139,
   "id": "6be808d2",
   "metadata": {},
   "outputs": [
    {
     "name": "stdout",
     "output_type": "stream",
     "text": [
      "0.7465745203562384\n",
      "0.6338839503029159\n"
     ]
    }
   ],
   "source": [
    "# KNR \n",
    "from sklearn.neighbors import KNeighborsRegressor\n",
    "knr=KNeighborsRegressor(n_neighbors=20)\n",
    "knr.fit(train_scaled, train_target)\n",
    "print(knr.score(train_scaled, train_target))\n",
    "print(knr.score(test_scaled, test_target))\n",
    "#전체적인 스코어가 9번을 target으로 정했을 때보다 많이 낮아짐"
   ]
  },
  {
   "cell_type": "code",
   "execution_count": 140,
   "id": "f7a7d533",
   "metadata": {},
   "outputs": [
    {
     "name": "stdout",
     "output_type": "stream",
     "text": [
      "0.7508856358979673\n",
      "0.6687594935356322\n"
     ]
    }
   ],
   "source": [
    "# 선형회귀(KNR보다는 높음)\n",
    "from sklearn.linear_model import LinearRegression\n",
    "\n",
    "lr=LinearRegression()\n",
    "lr.fit(train_scaled, train_target)\n",
    "print(lr.score(train_scaled, train_target))\n",
    "print(lr.score(test_scaled, test_target))"
   ]
  },
  {
   "cell_type": "code",
   "execution_count": 141,
   "id": "aa587e35",
   "metadata": {},
   "outputs": [
    {
     "name": "stdout",
     "output_type": "stream",
     "text": [
      "0.8273631144456788\n",
      "0.8174569324763867\n"
     ]
    }
   ],
   "source": [
    "# 다항회귀(3차 / 정확도가 높아짐)\n",
    "train_poly=np.column_stack((train_input**3, train_input))\n",
    "test_poly=np.column_stack((test_input**3, test_input))\n",
    "lr=LinearRegression()\n",
    "lr.fit(train_poly, train_target)\n",
    "print(lr.score(train_poly, train_target))\n",
    "print(lr.score(test_poly, test_target))\n",
    "\n",
    "# 모델 중 가장 적게 점수 사이의 차이가 제일 적었다. "
   ]
  },
  {
   "cell_type": "code",
   "execution_count": 142,
   "id": "1d01d934",
   "metadata": {},
   "outputs": [],
   "source": [
    "# 다중회귀\n",
    "from sklearn.preprocessing import PolynomialFeatures\n",
    "poly=PolynomialFeatures(degree=2, include_bias=False)\n",
    "poly.fit(train_scaled)\n",
    "train_poly=poly.transform(train_scaled)\n",
    "test_poly=poly.transform(test_scaled)"
   ]
  },
  {
   "cell_type": "code",
   "execution_count": 143,
   "id": "6d86796c",
   "metadata": {},
   "outputs": [
    {
     "name": "stdout",
     "output_type": "stream",
     "text": [
      "0.9409048466481141\n",
      "0.806037661046026\n"
     ]
    }
   ],
   "source": [
    "from sklearn.linear_model import LinearRegression\n",
    "\n",
    "lr=LinearRegression()\n",
    "lr.fit(train_poly, train_target)\n",
    "print(lr.score(train_poly, train_target))\n",
    "print(lr.score(test_poly, test_target))\n",
    "\n",
    "# 차이가 너무 크고, 테스트 점수 값이 낮음. "
   ]
  },
  {
   "cell_type": "code",
   "execution_count": 144,
   "id": "55e35231",
   "metadata": {
    "scrolled": true
   },
   "outputs": [
    {
     "name": "stdout",
     "output_type": "stream",
     "text": [
      "0.5304419445901294\n",
      "0.5296954117516082\n"
     ]
    }
   ],
   "source": [
    "# 릿지\n",
    "from sklearn.linear_model import Ridge\n",
    "ridge=Ridge(alpha=1000)\n",
    "ridge.fit(train_scaled, train_target)\n",
    "print(ridge.score(train_scaled, train_target))\n",
    "print(ridge.score(test_scaled, test_target))\n",
    "# 그래프를 참고로 하여 그렸으나 전체적인 score가 낮아짐"
   ]
  },
  {
   "cell_type": "markdown",
   "id": "f7b7c55d",
   "metadata": {},
   "source": [
    "=> alpha의 최적값은 1000"
   ]
  },
  {
   "cell_type": "code",
   "execution_count": 146,
   "id": "33e87fe3",
   "metadata": {},
   "outputs": [
    {
     "name": "stdout",
     "output_type": "stream",
     "text": [
      "0.7508856358979673\n",
      "0.6687594935356324\n"
     ]
    },
    {
     "name": "stderr",
     "output_type": "stream",
     "text": [
      "<ipython-input-146-0ce567cf2af3>:4: UserWarning: With alpha=0, this algorithm does not converge well. You are advised to use the LinearRegression estimator\n",
      "  lasso.fit(train_scaled, train_target)\n",
      "C:\\Users\\hk428\\anaconda3\\envs\\tf24\\lib\\site-packages\\sklearn\\linear_model\\_coordinate_descent.py:530: UserWarning: Coordinate descent with no regularization may lead to unexpected results and is discouraged.\n",
      "  model = cd_fast.enet_coordinate_descent(\n",
      "C:\\Users\\hk428\\anaconda3\\envs\\tf24\\lib\\site-packages\\sklearn\\linear_model\\_coordinate_descent.py:530: ConvergenceWarning: Objective did not converge. You might want to increase the number of iterations. Duality gap: 4371.565376151721, tolerance: 3.509685514851485\n",
      "  model = cd_fast.enet_coordinate_descent(\n"
     ]
    }
   ],
   "source": [
    "# 라쏘\n",
    "from sklearn.linear_model import Lasso\n",
    "lasso=Lasso(alpha=0)\n",
    "lasso.fit(train_scaled, train_target)\n",
    "print(lasso.score(train_scaled, train_target))\n",
    "print(lasso.score(test_scaled, test_target))\n",
    "#훈련SET과 테스트SET의 값이 함께 낮아짐"
   ]
  },
  {
   "cell_type": "markdown",
   "id": "528b1d87",
   "metadata": {},
   "source": [
    "=> alpha의 최적값은 0"
   ]
  },
  {
   "cell_type": "code",
   "execution_count": 148,
   "id": "d3f63011",
   "metadata": {},
   "outputs": [
    {
     "name": "stdout",
     "output_type": "stream",
     "text": [
      "1.0\n",
      "0.8579634380978161\n"
     ]
    }
   ],
   "source": [
    "# 의사결정회귀\n",
    "from sklearn.tree import DecisionTreeRegressor\n",
    "dt=DecisionTreeRegressor(random_state=42)\n",
    "dt.fit(train_scaled, train_target)\n",
    "print(dt.score(train_scaled, train_target))\n",
    "print(dt.score(test_scaled, test_target))\n",
    "#과대적합"
   ]
  },
  {
   "cell_type": "code",
   "execution_count": 149,
   "id": "e1039e0f",
   "metadata": {},
   "outputs": [
    {
     "name": "stdout",
     "output_type": "stream",
     "text": [
      "0.9999857537093314\n",
      "0.8307959354029337\n"
     ]
    }
   ],
   "source": [
    "# 그리드서치\n",
    "from sklearn.model_selection import GridSearchCV\n",
    "params={'min_impurity_decrease':[0.0001, 0.0001, 0.0003, 0.0004, 0.0005]}\n",
    "gs=GridSearchCV(DecisionTreeRegressor(random_state=42), params, n_jobs=-1)\n",
    "gs.fit(train_scaled, train_target)\n",
    "dt=gs.best_estimator_\n",
    "print(dt.score(train_scaled, train_target))\n",
    "print(dt.score(test_scaled, test_target))\n",
    "#과대적합"
   ]
  },
  {
   "cell_type": "code",
   "execution_count": 150,
   "id": "7f9c4a0b",
   "metadata": {},
   "outputs": [
    {
     "name": "stdout",
     "output_type": "stream",
     "text": [
      "DecisionTreeRegressor(min_impurity_decrease=0.0001, random_state=42)\n"
     ]
    }
   ],
   "source": [
    "print(gs.best_estimator_)"
   ]
  },
  {
   "cell_type": "code",
   "execution_count": 151,
   "id": "99eac406",
   "metadata": {},
   "outputs": [
    {
     "name": "stdout",
     "output_type": "stream",
     "text": [
      "[0.65932551 0.65932551 0.65856244 0.65324236 0.64466203]\n"
     ]
    }
   ],
   "source": [
    "print(gs.cv_results_['mean_test_score'])"
   ]
  },
  {
   "cell_type": "code",
   "execution_count": 152,
   "id": "ecb4ab0c",
   "metadata": {},
   "outputs": [
    {
     "name": "stdout",
     "output_type": "stream",
     "text": [
      "{'min_impurity_decrease': 0.0001}\n"
     ]
    }
   ],
   "source": [
    "best_index=np.argmax(gs.cv_results_['mean_test_score'])\n",
    "print(gs.cv_results_['params'][best_index])"
   ]
  },
  {
   "cell_type": "code",
   "execution_count": 153,
   "id": "4c8e0a86",
   "metadata": {},
   "outputs": [],
   "source": [
    "params={'min_impurity_decrease':np.arange(0.0001, 0.001, 0.0001), 'max_depth':range(5,20,1), 'min_samples_split':range(2, 100, 10)}"
   ]
  },
  {
   "cell_type": "code",
   "execution_count": 154,
   "id": "bc26e893",
   "metadata": {},
   "outputs": [
    {
     "data": {
      "text/plain": [
       "GridSearchCV(estimator=DecisionTreeRegressor(random_state=42), n_jobs=-1,\n",
       "             param_grid={'max_depth': range(5, 20),\n",
       "                         'min_impurity_decrease': array([0.0001, 0.0002, 0.0003, 0.0004, 0.0005, 0.0006, 0.0007, 0.0008,\n",
       "       0.0009]),\n",
       "                         'min_samples_split': range(2, 100, 10)})"
      ]
     },
     "execution_count": 154,
     "metadata": {},
     "output_type": "execute_result"
    }
   ],
   "source": [
    "gs=GridSearchCV(DecisionTreeRegressor(random_state=42), params, n_jobs=-1)\n",
    "gs.fit(train_scaled, train_target)"
   ]
  },
  {
   "cell_type": "code",
   "execution_count": 155,
   "id": "d3fefd82",
   "metadata": {},
   "outputs": [
    {
     "name": "stdout",
     "output_type": "stream",
     "text": [
      "{'max_depth': 8, 'min_impurity_decrease': 0.0001, 'min_samples_split': 42}\n"
     ]
    }
   ],
   "source": [
    "print(gs.best_params_)"
   ]
  },
  {
   "cell_type": "code",
   "execution_count": 156,
   "id": "4f46f46e",
   "metadata": {},
   "outputs": [
    {
     "name": "stdout",
     "output_type": "stream",
     "text": [
      "0.7189878924213235\n"
     ]
    }
   ],
   "source": [
    "print(np.max(gs.cv_results_['mean_test_score']))"
   ]
  },
  {
   "cell_type": "code",
   "execution_count": 157,
   "id": "5756ea70",
   "metadata": {},
   "outputs": [
    {
     "name": "stdout",
     "output_type": "stream",
     "text": [
      "0.976740040838022 0.8260974564965702\n"
     ]
    }
   ],
   "source": [
    "# 랜덤 포레스트\n",
    "from sklearn.model_selection import cross_validate\n",
    "from sklearn.ensemble import RandomForestRegressor\n",
    "\n",
    "rf=RandomForestRegressor(n_jobs=-1, random_state=42)\n",
    "scores=cross_validate(rf, train_input, train_target, return_train_score=True, n_jobs=-1)\n",
    "print(np.mean(scores['train_score']), np.mean(scores['test_score']))"
   ]
  },
  {
   "cell_type": "code",
   "execution_count": 158,
   "id": "524c4eaa",
   "metadata": {},
   "outputs": [
    {
     "name": "stdout",
     "output_type": "stream",
     "text": [
      "[0.03806177 0.00175615 0.00795268 0.00100426 0.01554377 0.50384493\n",
      " 0.01383994 0.06054907 0.00381091 0.01566064 0.01631341 0.01215362\n",
      " 0.30950883]\n"
     ]
    }
   ],
   "source": [
    "rf.fit(train_input, train_target)\n",
    "print(rf.feature_importances_)\n",
    "#중요도는 5번(주택 1가구당 평균 방의 개수)>12번(모집단의 하위계층 비율)"
   ]
  },
  {
   "cell_type": "code",
   "execution_count": 159,
   "id": "5faf1b3c",
   "metadata": {},
   "outputs": [
    {
     "name": "stdout",
     "output_type": "stream",
     "text": [
      "0.8367691571150133\n"
     ]
    }
   ],
   "source": [
    "rf=RandomForestRegressor(oob_score=True, n_jobs=-1, random_state=42)\n",
    "rf.fit(train_input, train_target)\n",
    "print(rf.oob_score_)"
   ]
  },
  {
   "cell_type": "code",
   "execution_count": 160,
   "id": "63d68a73",
   "metadata": {},
   "outputs": [
    {
     "name": "stdout",
     "output_type": "stream",
     "text": [
      "0.9999999996310637 0.857992987573161\n"
     ]
    }
   ],
   "source": [
    "# 엑스트라 트리\n",
    "from sklearn.ensemble import ExtraTreesRegressor\n",
    "\n",
    "et=ExtraTreesRegressor(n_jobs=-1, random_state=42)\n",
    "scores=cross_validate(et, train_input, train_target, return_train_score=True, n_jobs=-1)\n",
    "print(np.mean(scores['train_score']), np.mean(scores['test_score']))"
   ]
  },
  {
   "cell_type": "code",
   "execution_count": 161,
   "id": "f23a4ccc",
   "metadata": {},
   "outputs": [
    {
     "name": "stdout",
     "output_type": "stream",
     "text": [
      "[0.02670059 0.00503923 0.04075369 0.02311007 0.04192078 0.33919036\n",
      " 0.01984859 0.02844052 0.02189783 0.04946183 0.05005573 0.01971589\n",
      " 0.33386488]\n"
     ]
    }
   ],
   "source": [
    "et.fit(train_input, train_target)\n",
    "print(et.feature_importances_)\n",
    "# 중요도: 5번과 12번이 거의 비슷함. 랜덤포레스트의 중요도와 차이가 있음"
   ]
  },
  {
   "cell_type": "code",
   "execution_count": 162,
   "id": "62baa91e",
   "metadata": {},
   "outputs": [
    {
     "name": "stdout",
     "output_type": "stream",
     "text": [
      "0.9999938557077291 0.8468577834920998\n"
     ]
    }
   ],
   "source": [
    "# 그레이디언트 부스팅\n",
    "from sklearn.ensemble import GradientBoostingRegressor\n",
    "\n",
    "gb=GradientBoostingRegressor(n_estimators=500, learning_rate=0.2, random_state=42)\n",
    "scores=cross_validate(gb, train_input, train_target, return_train_score=True, n_jobs=-1)\n",
    "print(np.mean(scores['train_score']), np.mean(scores['test_score']))"
   ]
  },
  {
   "cell_type": "code",
   "execution_count": 163,
   "id": "3b82b8ca",
   "metadata": {},
   "outputs": [
    {
     "name": "stdout",
     "output_type": "stream",
     "text": [
      "[2.99489734e-02 4.48248210e-04 1.80081400e-03 3.20569462e-04\n",
      " 3.13694183e-02 4.15049468e-01 1.55272641e-02 7.46038989e-02\n",
      " 2.87198949e-03 1.29505653e-02 3.33106944e-02 1.28146547e-02\n",
      " 3.68983442e-01]\n"
     ]
    }
   ],
   "source": [
    "gb.fit(train_input, train_target)\n",
    "print(gb.feature_importances_)\n",
    "#그레이디언트 부스트의 중요도: 5번>12번"
   ]
  },
  {
   "cell_type": "code",
   "execution_count": 164,
   "id": "28e09ac6",
   "metadata": {},
   "outputs": [
    {
     "name": "stdout",
     "output_type": "stream",
     "text": [
      "0.972487748382218 0.8361021012141739\n"
     ]
    }
   ],
   "source": [
    "# 히스토그램 기반 그레이디언트 부스팅\n",
    "from sklearn.experimental import enable_hist_gradient_boosting\n",
    "from sklearn.ensemble import HistGradientBoostingRegressor\n",
    "\n",
    "hgb=HistGradientBoostingRegressor(random_state=42)\n",
    "scores=cross_validate(hgb, train_input, train_target, return_train_score=True)\n",
    "print(np.mean(scores['train_score']), np.mean(scores['test_score']))"
   ]
  },
  {
   "cell_type": "code",
   "execution_count": 165,
   "id": "711d6560",
   "metadata": {},
   "outputs": [
    {
     "name": "stdout",
     "output_type": "stream",
     "text": [
      "[2.85320474e-02 5.06238341e-04 5.61829374e-03 2.14230580e-03\n",
      " 4.45497986e-02 4.13792706e-01 2.56672509e-02 6.15457909e-02\n",
      " 5.13503179e-04 1.86182321e-02 2.38105663e-02 1.32477468e-02\n",
      " 5.59075861e-01]\n"
     ]
    }
   ],
   "source": [
    "# 특성중요도\n",
    "from sklearn.inspection import permutation_importance\n",
    "\n",
    "hgb.fit(train_input, train_target)\n",
    "result=permutation_importance(hgb, train_input, train_target, n_repeats=10, random_state=42, n_jobs=-1)\n",
    "print(result.importances_mean)\n",
    "# 특성중요도(12번>5번)"
   ]
  },
  {
   "cell_type": "code",
   "execution_count": 166,
   "id": "3c765b58",
   "metadata": {},
   "outputs": [
    {
     "name": "stdout",
     "output_type": "stream",
     "text": [
      "[2.54831541e-02 2.29589529e-04 1.82213731e-03 8.93237160e-05\n",
      " 4.63238700e-02 3.11380229e-01 1.45581528e-02 6.57137233e-02\n",
      " 1.32507452e-03 4.25263833e-03 1.90387738e-02 3.96395960e-03\n",
      " 5.47357702e-01]\n"
     ]
    }
   ],
   "source": [
    "result=permutation_importance(hgb, test_input, test_target, n_repeats=10, random_state=42, n_jobs=-1)\n",
    "print(result.importances_mean)"
   ]
  },
  {
   "cell_type": "markdown",
   "id": "1dd3e8b8",
   "metadata": {},
   "source": [
    "#### 나이브 베이즈, SVM"
   ]
  },
  {
   "cell_type": "code",
   "execution_count": 167,
   "id": "a8de4aa8",
   "metadata": {},
   "outputs": [],
   "source": [
    "# 분류에만 사용. 자료가 회귀면 불가능"
   ]
  },
  {
   "cell_type": "markdown",
   "id": "073a85cb",
   "metadata": {},
   "source": [
    "## 3) 비지도 학습 머신러닝 기법 적용 분석 "
   ]
  },
  {
   "cell_type": "markdown",
   "id": "2c8e7fb0",
   "metadata": {},
   "source": [
    "# K-평균 알고리즘"
   ]
  },
  {
   "cell_type": "code",
   "execution_count": 168,
   "id": "38f4bb6a",
   "metadata": {},
   "outputs": [
    {
     "data": {
      "text/plain": [
       "array([[6.3200e-03, 1.8000e+01, 2.3100e+00, ..., 3.9690e+02, 4.9800e+00,\n",
       "        2.4000e+01],\n",
       "       [2.7310e-02, 0.0000e+00, 7.0700e+00, ..., 3.9690e+02, 9.1400e+00,\n",
       "        2.1600e+01],\n",
       "       [2.7290e-02, 0.0000e+00, 7.0700e+00, ..., 3.9283e+02, 4.0300e+00,\n",
       "        3.4700e+01],\n",
       "       ...,\n",
       "       [6.0760e-02, 0.0000e+00, 1.1930e+01, ..., 3.9690e+02, 5.6400e+00,\n",
       "        2.3900e+01],\n",
       "       [1.0959e-01, 0.0000e+00, 1.1930e+01, ..., 3.9345e+02, 6.4800e+00,\n",
       "        2.2000e+01],\n",
       "       [4.7410e-02, 0.0000e+00, 1.1930e+01, ..., 3.9690e+02, 7.8800e+00,\n",
       "        1.1900e+01]])"
      ]
     },
     "execution_count": 168,
     "metadata": {},
     "output_type": "execute_result"
    }
   ],
   "source": [
    "distortions=[]\n",
    "X=dataset[:,:]\n",
    "X\n",
    "\n",
    "# 모든 데이터 집어넣음.  \n",
    "# 회귀라서 타겟이 따로 없이 군집(클러스터)를 만듦"
   ]
  },
  {
   "cell_type": "markdown",
   "id": "c1efb34e",
   "metadata": {},
   "source": [
    "## 엘보우 방법을 사용하여 최적의 클러스터 개수 찾기"
   ]
  },
  {
   "cell_type": "code",
   "execution_count": 169,
   "id": "e57e9a1e",
   "metadata": {},
   "outputs": [
    {
     "name": "stderr",
     "output_type": "stream",
     "text": [
      "C:\\Users\\hk428\\anaconda3\\envs\\tf24\\lib\\site-packages\\sklearn\\cluster\\_kmeans.py:881: UserWarning: KMeans is known to have a memory leak on Windows with MKL, when there are less chunks than available threads. You can avoid it by setting the environment variable OMP_NUM_THREADS=2.\n",
      "  warnings.warn(\n"
     ]
    }
   ],
   "source": [
    "from sklearn.cluster import KMeans\n",
    "for i in range(1,20): # 클러스터 개수 K를 바꿔가며 kmeans 20번 훈련 \n",
    "    km=KMeans(n_clusters=i, init='k-means++', n_init=10, max_iter=200, random_state=0)\n",
    "    km.fit(X) , \n",
    "    distortions.append(km.inertia_) # 훈련한 후 inertia 리스트에 추가 \n",
    "    # 최적의 점을 찾아서 넣어본다."
   ]
  },
  {
   "cell_type": "code",
   "execution_count": 195,
   "id": "9c09535b",
   "metadata": {
    "scrolled": false
   },
   "outputs": [
    {
     "data": {
      "image/png": "[encoded data removed]",
      "text/plain": [
       "<Figure size 432x288 with 1 Axes>"
      ]
     },
     "metadata": {
      "needs_background": "light"
     },
     "output_type": "display_data"
    }
   ],
   "source": [
    "plt.plot(range(1,20), distortions, marker='o')\n",
    "plt.xlabel('Number of clusters')\n",
    "plt.ylabel('Distortion')\n",
    "plt.tight_layout()\n",
    "plt.show()"
   ]
  },
  {
   "cell_type": "markdown",
   "id": "06d45381",
   "metadata": {},
   "source": [
    "- n_clusters=3 에서 그래프가 감소하는 속도가 꺾이므로 적절한 클러스터는 3개라 예측"
   ]
  },
  {
   "cell_type": "markdown",
   "id": "74ba3ce6",
   "metadata": {},
   "source": [
    "### 표준화 작업 추가 "
   ]
  },
  {
   "cell_type": "code",
   "execution_count": 171,
   "id": "68d55a3e",
   "metadata": {},
   "outputs": [],
   "source": [
    "from sklearn.preprocessing import StandardScaler\n",
    "ss=StandardScaler()\n",
    "ss.fit(X)\n",
    "train_scaled=ss.transform(X)\n",
    "#test_scaled=ss.transform(test_input)"
   ]
  },
  {
   "cell_type": "code",
   "execution_count": 172,
   "id": "5aba06e5",
   "metadata": {},
   "outputs": [
    {
     "name": "stderr",
     "output_type": "stream",
     "text": [
      "C:\\Users\\hk428\\anaconda3\\envs\\tf24\\lib\\site-packages\\sklearn\\cluster\\_kmeans.py:881: UserWarning: KMeans is known to have a memory leak on Windows with MKL, when there are less chunks than available threads. You can avoid it by setting the environment variable OMP_NUM_THREADS=2.\n",
      "  warnings.warn(\n"
     ]
    },
    {
     "data": {
      "image/png": "[encoded data removed]",
      "text/plain": [
       "<Figure size 432x288 with 1 Axes>"
      ]
     },
     "metadata": {
      "needs_background": "light"
     },
     "output_type": "display_data"
    }
   ],
   "source": [
    "distortions = []\n",
    "for i in range(1, 20):\n",
    "    km = KMeans(n_clusters=i, \n",
    "                init='k-means++', \n",
    "                n_init=10, \n",
    "                max_iter=300, \n",
    "                random_state=0)\n",
    "    km.fit(train_scaled)\n",
    "    distortions.append(km.inertia_)\n",
    "plt.plot(range(1, 20), distortions, marker='o')\n",
    "plt.xlabel('Number of clusters')\n",
    "plt.ylabel('Distortion')\n",
    "plt.tight_layout()\n",
    "plt.show()\n",
    "\n",
    "# 마찬가지로 n_clusters=3 에서 그래프가 감소하는 속도가 꺾이므로 적절한 클러스터는 3개라 예측 \n",
    "# (완만)"
   ]
  },
  {
   "cell_type": "code",
   "execution_count": 173,
   "id": "de60242d",
   "metadata": {},
   "outputs": [
    {
     "name": "stderr",
     "output_type": "stream",
     "text": [
      "C:\\Users\\hk428\\anaconda3\\envs\\tf24\\lib\\site-packages\\sklearn\\metrics\\cluster\\_supervised.py:58: UserWarning: Clustering metrics expects discrete values but received continuous values for label, and binary values for target\n",
      "  warnings.warn(msg, UserWarning)\n"
     ]
    },
    {
     "data": {
      "text/plain": [
       "0.4160826448759576"
      ]
     },
     "execution_count": 173,
     "metadata": {},
     "output_type": "execute_result"
    }
   ],
   "source": [
    "from sklearn.cluster import KMeans\n",
    "\n",
    "km = KMeans(n_clusters=2, \n",
    "            init='random', \n",
    "            n_init=10, \n",
    "            max_iter=300,\n",
    "            tol=1e-04,\n",
    "            random_state=0)\n",
    "\n",
    "y_km = km.fit_predict(train_scaled)\n",
    "\n",
    "from sklearn.metrics import mutual_info_score\n",
    "mutual_info_score(Y, y_km) # 두 군집 간의 상호 정보 "
   ]
  },
  {
   "cell_type": "code",
   "execution_count": 174,
   "id": "1bc2ffbf",
   "metadata": {},
   "outputs": [
    {
     "name": "stderr",
     "output_type": "stream",
     "text": [
      "C:\\Users\\hk428\\anaconda3\\envs\\tf24\\lib\\site-packages\\sklearn\\metrics\\cluster\\_supervised.py:58: UserWarning: Clustering metrics expects discrete values but received continuous values for label, and multiclass values for target\n",
      "  warnings.warn(msg, UserWarning)\n"
     ]
    },
    {
     "data": {
      "text/plain": [
       "0.6907068878681815"
      ]
     },
     "execution_count": 174,
     "metadata": {},
     "output_type": "execute_result"
    }
   ],
   "source": [
    "km = KMeans(n_clusters=3, \n",
    "            init='random', \n",
    "            n_init=10, \n",
    "            max_iter=300,\n",
    "            tol=1e-04,\n",
    "            random_state=0)\n",
    "\n",
    "y_km = km.fit_predict(train_scaled)\n",
    "\n",
    "mutual_info_score(Y, y_km)"
   ]
  },
  {
   "cell_type": "markdown",
   "id": "1a73ba8a",
   "metadata": {},
   "source": [
    "- n_clusters=3 더 나눌수록 군집들 간 유사도 ↑"
   ]
  },
  {
   "cell_type": "markdown",
   "id": "0552a284",
   "metadata": {},
   "source": [
    "- 특성이 잘 없어서 군집이 안나눠지기 때문에 더 잘게 나눠서 비슷한 특성을 보인다, 유사도가 높게 보인다. \n",
    "- 클래스가 많아질수록 유사도가 높아짐, 잘게 쪼갤수록 스코어가 높아짐 "
   ]
  },
  {
   "cell_type": "markdown",
   "id": "ea0a81e6",
   "metadata": {},
   "source": [
    "# PCA"
   ]
  },
  {
   "cell_type": "code",
   "execution_count": 184,
   "id": "1f97eae3",
   "metadata": {},
   "outputs": [
    {
     "data": {
      "text/plain": [
       "array([0.46757068, 0.11782371, 0.09635042, 0.06332428, 0.06077853,\n",
       "       0.04714363, 0.03824363, 0.02879118, 0.01980454, 0.01801839,\n",
       "       0.0151993 , 0.01307054, 0.00957212, 0.00430905])"
      ]
     },
     "execution_count": 184,
     "metadata": {},
     "output_type": "execute_result"
    }
   ],
   "source": [
    "from sklearn.decomposition import PCA\n",
    "\n",
    "pca=PCA()\n",
    "train_scaled_pca=pca.fit_transform(train_scaled)\n",
    "pca.explained_variance_ratio_"
   ]
  },
  {
   "cell_type": "code",
   "execution_count": 185,
   "id": "cc13429d",
   "metadata": {
    "scrolled": true
   },
   "outputs": [
    {
     "data": {
      "image/png": "[encoded data removed]",
      "text/plain": [
       "<Figure size 432x288 with 1 Axes>"
      ]
     },
     "metadata": {
      "needs_background": "light"
     },
     "output_type": "display_data"
    }
   ],
   "source": [
    "plt.bar(range(1, 15), pca.explained_variance_ratio_, alpha=0.5, align='center')\n",
    "plt.step(range(1, 15), np.cumsum(pca.explained_variance_ratio_), where='mid')\n",
    "plt.ylabel('Explained variance ratio')\n",
    "plt.xlabel('Principal components')\n",
    "\n",
    "plt.show()\n",
    "\n",
    "# 14개의 특성을 그래프로 나타냄. 특정 특성이 영향을 미치는 정도를 그래프로 나타냄. 1~2개만 봤을때 이미 50퍼 이상 넘어감. "
   ]
  },
  {
   "cell_type": "code",
   "execution_count": 186,
   "id": "60b31080",
   "metadata": {},
   "outputs": [],
   "source": [
    "pca = PCA(n_components=2)\n",
    "train_scaled_pca = pca.fit_transform(train_scaled)\n",
    "#test_scaled_pca = pca.transform(test_scaled)"
   ]
  },
  {
   "cell_type": "code",
   "execution_count": 187,
   "id": "7dfd7da2",
   "metadata": {
    "scrolled": true
   },
   "outputs": [
    {
     "data": {
      "image/png": "[encoded data removed]",
      "text/plain": [
       "<Figure size 432x288 with 1 Axes>"
      ]
     },
     "metadata": {
      "needs_background": "light"
     },
     "output_type": "display_data"
    }
   ],
   "source": [
    "plt.scatter(train_scaled_pca[:, 0], train_scaled_pca[:, 1])\n",
    "plt.xlabel('PC 1')\n",
    "plt.ylabel('PC 2')\n",
    "plt.show()\n",
    "# 군집 없이 나눠짐 "
   ]
  },
  {
   "cell_type": "code",
   "execution_count": 188,
   "id": "bfe36e65",
   "metadata": {},
   "outputs": [],
   "source": [
    "pca = PCA(n_components=2) #평면\n",
    "result_pca = pca.fit_transform(train_scaled)"
   ]
  },
  {
   "cell_type": "code",
   "execution_count": 189,
   "id": "c00dcf87",
   "metadata": {},
   "outputs": [
    {
     "data": {
      "text/plain": [
       "array([0, 1, 2])"
      ]
     },
     "execution_count": 189,
     "metadata": {},
     "output_type": "execute_result"
    }
   ],
   "source": [
    "np.unique(y_km)"
   ]
  },
  {
   "cell_type": "code",
   "execution_count": 190,
   "id": "e36d89ab",
   "metadata": {},
   "outputs": [
    {
     "data": {
      "image/png": "[encoded data removed]",
      "text/plain": [
       "<Figure size 432x288 with 1 Axes>"
      ]
     },
     "metadata": {
      "needs_background": "light"
     },
     "output_type": "display_data"
    }
   ],
   "source": [
    "colors = ['r', 'b', 'g']\n",
    "markers = ['s', 'o', 'x'] # 3개로 색칠 해봤더니, \n",
    "\n",
    "for l, c, m in zip(np.unique(y_km), colors, markers):\n",
    "    plt.scatter(train_scaled_pca[y_km == l, 0], \n",
    "                train_scaled_pca[y_km == l, 1], \n",
    "                c=c, label=l, marker=m)\n",
    "\n",
    "plt.xlabel('PC 1')\n",
    "plt.ylabel('PC 2')\n",
    "plt.legend(loc='lower left')\n",
    "plt.tight_layout()\n",
    "plt.show()\n",
    "# 색칠해서 나눠봤더니 색으로 정확하게 구분할수있었다. 군집이 제대로 안됐다는 것을, 뭉쳐져있구나 이놈드! "
   ]
  },
  {
   "cell_type": "markdown",
   "id": "df6c2e0f",
   "metadata": {},
   "source": [
    "# 4. 특이점 \n",
    "## 확률적 경사하강법 (09)"
   ]
  },
  {
   "cell_type": "markdown",
   "id": "8e1516d9",
   "metadata": {},
   "source": [
    "=> 50회가 가장 적합한 에포크 횟수라고 생각했으나, iter=80 일때와 90일때 점수가 크게 차이가 나지 않는다??\n",
    "오히려 100회를 시행했을때,훈련 score가 더 낮아짐.\n",
    "\n",
    "\n",
    "이유?\n",
    "=> SGD의 랜덤한 특성으로 그래프의 50회~100회에서 정확도가 변화무쌍한 지점을 확인.\n",
    "\n",
    "\n",
    "결과\n",
    "=> 50회 실행값과 70회 실행값이 변화무쌍하기 때문에 점수가 낮아지거나 높아져도 큰 차이가 없음을 발견."
   ]
  },
  {
   "cell_type": "markdown",
   "id": "56ed4c64",
   "metadata": {},
   "source": [
    "# 5. 결론"
   ]
  },
  {
   "cell_type": "code",
   "execution_count": null,
   "id": "996b76ba",
   "metadata": {},
   "outputs": [],
   "source": [
    "09 (만달러당 재산세율) \n",
    "\n",
    "=> 재산세율을 생각할때는 엑스트라 트리의 정확도가 훈련 셋 1.0, 정확도의 평균 점수가 약 0.98로 높게 나왔다.\n",
    "\n",
    "=> 그래서 재산세율을 타겟으로 할때는 '엑스트라 트리' 모델을 사용하는것이 가장 적합하다고 생각한다.\n",
    "\n",
    "\n",
    "=> 재산세율에 가장 영향을 끼치는 특성은 8번 (도로가의 접근성 지수) 라고 볼 수 있다. (거의 모든 특성중요도에서 8번이 높게 나옴)\n",
    "\n",
    "\n",
    "=> 따라서, '방사형 도로의 접근성 지수' 는 재산세율에 많은 영향을 끼치며, 둘의 상관관계는 높은 것으로 직접 확인 할 수 있었다. "
   ]
  },
  {
   "cell_type": "code",
   "execution_count": null,
   "id": "e793caf9",
   "metadata": {},
   "outputs": [],
   "source": [
    "13  (본인 소유의 주택 가격) \n",
    "\n",
    "=> 주택 가격을 생각할때는 다항회귀가 훈련 셋 0.8274 테스트 셋 0.8173 가장 점수 차이가 제일 적었다.\n",
    "=> test score의 점수는 엑스트라 트리의 점수가 0.857 정도로 가장 높게 나왔다. \n",
    "\n",
    "=> 그래서 주택 가격의 타겟으로 할때는 '다항회귀' , '엑스트라 트리' 모델을 사용하는 것이 가장 적합하다고 생각한다. \n",
    "\n",
    "\n",
    "=> 집값에 가장 영향을 끼치는 특성은 5번(방의개수), 12번(하위계층의 비율) 이라고 볼 수 있다. (특성중요도)\n",
    "\n",
    "\n",
    "=> 따라서, '방의 개수' 와, '하위계층의 비율'은 집값에 많은 영향을 끼치며, 상관성이 높음을 직접 모델을 실행하면서 확인하였다.\n"
   ]
  },
  {
   "cell_type": "code",
   "execution_count": null,
   "id": "2580851d",
   "metadata": {},
   "outputs": [],
   "source": [
    "=> 처음에는 주택 가격을 예측하는 데이터로 주어졌지만, \n",
    "의도와 다르게 재산세를 타겟으로 두었을때 정확도가 더 높게 나왔으므로 \n",
    "보스턴시 주택 데이터는 '만 달러 당 재산세' 를 더 잘 설명해주는 데이터라 볼 수 있다."
   ]
  }
 ],
 "metadata": {
  "kernelspec": {
   "display_name": "Python 3",
   "language": "python",
   "name": "python3"
  },
  "language_info": {
   "codemirror_mode": {
    "name": "ipython",
    "version": 3
   },
   "file_extension": ".py",
   "mimetype": "text/x-python",
   "name": "python",
   "nbconvert_exporter": "python",
   "pygments_lexer": "ipython3",
   "version": "3.8.11"
  }
 },
 "nbformat": 4,
 "nbformat_minor": 5
}
